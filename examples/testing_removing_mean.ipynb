{
 "cells": [
  {
   "cell_type": "markdown",
   "metadata": {},
   "source": [
    "a benchmark test in my laptop\n",
    "\n",
    "Architecture:        x86_64\n",
    "CPU op-mode(s):      32-bit, 64-bit\n",
    "Byte Order:          Little Endian\n",
    "CPU(s):              4\n",
    "On-line CPU(s) list: 0-3\n",
    "Thread(s) per core:  2\n",
    "Core(s) per socket:  2\n",
    "Socket(s):           1\n",
    "NUMA node(s):        1\n",
    "Vendor ID:           GenuineIntel\n",
    "CPU family:          6\n",
    "Model:               142\n",
    "Model name:          Intel(R) Core(TM) i5-7200U CPU @ 2.50GHz\n"
   ]
  },
  {
   "cell_type": "code",
   "execution_count": 1,
   "metadata": {},
   "outputs": [],
   "source": [
    "import numpy as np\n",
    "import time"
   ]
  },
  {
   "cell_type": "code",
   "execution_count": 2,
   "metadata": {},
   "outputs": [],
   "source": [
    "import matplotlib.pyplot as plt\n",
    "from pystem.stemsegmentation import segmentationSTEM"
   ]
  },
  {
   "cell_type": "code",
   "execution_count": 13,
   "metadata": {},
   "outputs": [],
   "source": [
    "image1 = np.load('CuGB.npy')\n",
    "image2 = np.load('high_entropy_alloy.npy')\n",
    "image3 = np.load('Ni_precipitate.npy')\n",
    "image4 = np.load('FeNb_phase_boundary.npy')"
   ]
  },
  {
   "cell_type": "code",
   "execution_count": 31,
   "metadata": {},
   "outputs": [
    {
     "name": "stdout",
     "output_type": "stream",
     "text": [
      "time_cost:   4.62[s]\n"
     ]
    }
   ],
   "source": [
    "removing_mean = True\n",
    "seg = segmentationSTEM( n_patterns=3,\n",
    "                       window_x=20,window_y=20,\n",
    "                       patch_x=20,patch_y=20,\n",
    "                       step=5,\n",
    "                       descriptor_name='local_correlation_map',\n",
    "                       removing_mean = removing_mean,\n",
    "                       upsampling=True)\n",
    "start = time.time()\n",
    "labels = seg.perform_clustering(image1)\n",
    "print ('time_cost: %6.2f[s]' %(time.time()-start,))"
   ]
  },
  {
   "cell_type": "code",
   "execution_count": 32,
   "metadata": {},
   "outputs": [
    {
     "data": {
      "text/plain": [
       "<matplotlib.image.AxesImage at 0x7f74176ef990>"
      ]
     },
     "execution_count": 32,
     "metadata": {},
     "output_type": "execute_result"
    },
    {
     "data": {
      "image/png": "[encoded data removed]",
      "text/plain": [
       "<Figure size 432x288 with 1 Axes>"
      ]
     },
     "metadata": {
      "needs_background": "light"
     },
     "output_type": "display_data"
    }
   ],
   "source": [
    "plt.imshow(labels)"
   ]
  },
  {
   "cell_type": "code",
   "execution_count": 33,
   "metadata": {},
   "outputs": [
    {
     "name": "stdout",
     "output_type": "stream",
     "text": [
      "time_cost:   4.56[s]\n"
     ]
    }
   ],
   "source": [
    "\n",
    "removing_mean = False\n",
    "seg = segmentationSTEM( n_patterns=3,\n",
    "                       window_x=20,window_y=20,\n",
    "                       patch_x=20,patch_y=20,\n",
    "                       step=5,\n",
    "                       descriptor_name='local_correlation_map',\n",
    "                       removing_mean = removing_mean,\n",
    "                       upsampling=True)\n",
    "start = time.time()\n",
    "labels = seg.perform_clustering(image1)\n",
    "print ('time_cost: %6.2f[s]' %(time.time()-start,))"
   ]
  },
  {
   "cell_type": "code",
   "execution_count": 34,
   "metadata": {},
   "outputs": [
    {
     "data": {
      "text/plain": [
       "<matplotlib.image.AxesImage at 0x7f74176529d0>"
      ]
     },
     "execution_count": 34,
     "metadata": {},
     "output_type": "execute_result"
    },
    {
     "data": {
      "image/png": "[encoded data removed]",
      "text/plain": [
       "<Figure size 432x288 with 1 Axes>"
      ]
     },
     "metadata": {
      "needs_background": "light"
     },
     "output_type": "display_data"
    }
   ],
   "source": [
    "plt.imshow(labels)"
   ]
  },
  {
   "cell_type": "code",
   "execution_count": 39,
   "metadata": {},
   "outputs": [
    {
     "name": "stdout",
     "output_type": "stream",
     "text": [
      "time_cost:   5.14[s]\n"
     ]
    }
   ],
   "source": [
    "removing_mean = True\n",
    "seg = segmentationSTEM( n_patterns=2,\n",
    "                       window_x=20,window_y=20,\n",
    "                       patch_x=20,patch_y=20,\n",
    "                       step=5,\n",
    "                       descriptor_name='local_correlation_map',\n",
    "                       removing_mean = removing_mean,\n",
    "                       upsampling=True)\n",
    "start = time.time()\n",
    "labels = seg.perform_clustering(image2)\n",
    "print ('time_cost: %6.2f[s]' %(time.time()-start,))"
   ]
  },
  {
   "cell_type": "code",
   "execution_count": 40,
   "metadata": {},
   "outputs": [
    {
     "data": {
      "text/plain": [
       "<matplotlib.image.AxesImage at 0x7f7417568dd0>"
      ]
     },
     "execution_count": 40,
     "metadata": {},
     "output_type": "execute_result"
    },
    {
     "data": {
      "image/png": "[encoded data removed]",
      "text/plain": [
       "<Figure size 432x288 with 1 Axes>"
      ]
     },
     "metadata": {
      "needs_background": "light"
     },
     "output_type": "display_data"
    }
   ],
   "source": [
    "plt.imshow(labels)"
   ]
  },
  {
   "cell_type": "code",
   "execution_count": 47,
   "metadata": {},
   "outputs": [
    {
     "name": "stdout",
     "output_type": "stream",
     "text": [
      "time_cost:   4.48[s]\n"
     ]
    }
   ],
   "source": [
    "removing_mean = False\n",
    "seg = segmentationSTEM( n_patterns=2,\n",
    "                       window_x=20,window_y=20,\n",
    "                       patch_x=20,patch_y=20,\n",
    "                       step=5,\n",
    "                       descriptor_name='local_correlation_map',\n",
    "                       removing_mean = removing_mean,\n",
    "                       upsampling=True)\n",
    "start = time.time()\n",
    "labels = seg.perform_clustering(image2)\n",
    "print ('time_cost: %6.2f[s]' %(time.time()-start,))"
   ]
  },
  {
   "cell_type": "code",
   "execution_count": 48,
   "metadata": {},
   "outputs": [
    {
     "data": {
      "text/plain": [
       "<matplotlib.image.AxesImage at 0x7f741738b310>"
      ]
     },
     "execution_count": 48,
     "metadata": {},
     "output_type": "execute_result"
    },
    {
     "data": {
      "image/png": "[encoded data removed]",
      "text/plain": [
       "<Figure size 432x288 with 1 Axes>"
      ]
     },
     "metadata": {
      "needs_background": "light"
     },
     "output_type": "display_data"
    }
   ],
   "source": [
    "plt.imshow(labels)"
   ]
  },
  {
   "cell_type": "code",
   "execution_count": 51,
   "metadata": {},
   "outputs": [
    {
     "name": "stdout",
     "output_type": "stream",
     "text": [
      "time_cost:   3.23[s]\n"
     ]
    }
   ],
   "source": [
    "removing_mean = True\n",
    "seg = segmentationSTEM( n_patterns=4,\n",
    "                       window_x=20,window_y=11,\n",
    "                       patch_x=11,patch_y=5,\n",
    "                       step=3,\n",
    "                       descriptor_name='local_correlation_map',\n",
    "                       removing_mean = removing_mean,\n",
    "                       upsampling=True)\n",
    "start = time.time()\n",
    "labels = seg.perform_clustering(image3)\n",
    "print ('time_cost: %6.2f[s]' %(time.time()-start,))"
   ]
  },
  {
   "cell_type": "code",
   "execution_count": 52,
   "metadata": {},
   "outputs": [
    {
     "data": {
      "text/plain": [
       "<matplotlib.image.AxesImage at 0x7f74172da590>"
      ]
     },
     "execution_count": 52,
     "metadata": {},
     "output_type": "execute_result"
    },
    {
     "data": {
      "image/png": "[encoded data removed]",
      "text/plain": [
       "<Figure size 432x288 with 1 Axes>"
      ]
     },
     "metadata": {
      "needs_background": "light"
     },
     "output_type": "display_data"
    }
   ],
   "source": [
    "plt.imshow(labels)"
   ]
  },
  {
   "cell_type": "code",
   "execution_count": 53,
   "metadata": {},
   "outputs": [
    {
     "name": "stdout",
     "output_type": "stream",
     "text": [
      "time_cost:   5.49[s]\n"
     ]
    }
   ],
   "source": [
    "removing_mean = False\n",
    "seg = segmentationSTEM( n_patterns=4,\n",
    "                       window_x=20,window_y=11,\n",
    "                       patch_x=11,patch_y=5,\n",
    "                       step=3,\n",
    "                       descriptor_name='local_correlation_map',\n",
    "                       removing_mean = removing_mean,\n",
    "                       upsampling=True)\n",
    "start = time.time()\n",
    "labels = seg.perform_clustering(image3)\n",
    "print ('time_cost: %6.2f[s]' %(time.time()-start,))"
   ]
  },
  {
   "cell_type": "code",
   "execution_count": 54,
   "metadata": {},
   "outputs": [
    {
     "data": {
      "text/plain": [
       "<matplotlib.image.AxesImage at 0x7f7417241710>"
      ]
     },
     "execution_count": 54,
     "metadata": {},
     "output_type": "execute_result"
    },
    {
     "data": {
      "image/png": "[encoded data removed]",
      "text/plain": [
       "<Figure size 432x288 with 1 Axes>"
      ]
     },
     "metadata": {
      "needs_background": "light"
     },
     "output_type": "display_data"
    }
   ],
   "source": [
    "plt.imshow(labels)"
   ]
  },
  {
   "cell_type": "code",
   "execution_count": 58,
   "metadata": {},
   "outputs": [
    {
     "name": "stdout",
     "output_type": "stream",
     "text": [
      "time_cost:   1.27[s]\n"
     ]
    }
   ],
   "source": [
    "removing_mean = True\n",
    "seg = segmentationSTEM( n_patterns=2,\n",
    "                       window_x=150,window_y=150,\n",
    "                       patch_x=150,patch_y=150,\n",
    "                       step=40,\n",
    "                       descriptor_name='local_correlation_map',\n",
    "                       removing_mean = removing_mean,\n",
    "                       upsampling=True)\n",
    "start = time.time()\n",
    "labels = seg.perform_clustering(image4)\n",
    "print ('time_cost: %6.2f[s]' %(time.time()-start,))"
   ]
  },
  {
   "cell_type": "code",
   "execution_count": 59,
   "metadata": {},
   "outputs": [
    {
     "data": {
      "text/plain": [
       "<matplotlib.image.AxesImage at 0x7f741718fa10>"
      ]
     },
     "execution_count": 59,
     "metadata": {},
     "output_type": "execute_result"
    },
    {
     "data": {
      "image/png": "[encoded data removed]",
      "text/plain": [
       "<Figure size 432x288 with 1 Axes>"
      ]
     },
     "metadata": {
      "needs_background": "light"
     },
     "output_type": "display_data"
    }
   ],
   "source": [
    "plt.imshow(labels)"
   ]
  },
  {
   "cell_type": "code",
   "execution_count": 60,
   "metadata": {},
   "outputs": [
    {
     "name": "stdout",
     "output_type": "stream",
     "text": [
      "time_cost:   1.23[s]\n"
     ]
    }
   ],
   "source": [
    "removing_mean = False\n",
    "seg = segmentationSTEM( n_patterns=2,\n",
    "                       window_x=150,window_y=150,\n",
    "                       patch_x=150,patch_y=150,\n",
    "                       step=40,\n",
    "                       descriptor_name='local_correlation_map',\n",
    "                       removing_mean = removing_mean,\n",
    "                       upsampling=True)\n",
    "start = time.time()\n",
    "labels = seg.perform_clustering(image4)\n",
    "print ('time_cost: %6.2f[s]' %(time.time()-start,))"
   ]
  },
  {
   "cell_type": "code",
   "execution_count": 61,
   "metadata": {},
   "outputs": [
    {
     "data": {
      "text/plain": [
       "<matplotlib.image.AxesImage at 0x7f7417177c50>"
      ]
     },
     "execution_count": 61,
     "metadata": {},
     "output_type": "execute_result"
    },
    {
     "data": {
      "image/png": "[encoded data removed]",
      "text/plain": [
       "<Figure size 432x288 with 1 Axes>"
      ]
     },
     "metadata": {
      "needs_background": "light"
     },
     "output_type": "display_data"
    }
   ],
   "source": [
    "plt.imshow(labels)"
   ]
  },
  {
   "cell_type": "code",
   "execution_count": null,
   "metadata": {},
   "outputs": [],
   "source": []
  }
 ],
 "metadata": {
  "kernelspec": {
   "display_name": "Python 3",
   "language": "python",
   "name": "python3"
  },
  "language_info": {
   "codemirror_mode": {
    "name": "ipython",
    "version": 3
   },
   "file_extension": ".py",
   "mimetype": "text/x-python",
   "name": "python",
   "nbconvert_exporter": "python",
   "pygments_lexer": "ipython3",
   "version": "3.7.4"
  }
 },
 "nbformat": 4,
 "nbformat_minor": 2
}
